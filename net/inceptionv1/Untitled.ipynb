{
 "cells": [
  {
   "cell_type": "code",
   "execution_count": 2,
   "metadata": {},
   "outputs": [],
   "source": [
    "import torch\n",
    "from torch import nn\n",
    "import torch.nn.functional as F\n"
   ]
  },
  {
   "cell_type": "code",
   "execution_count": 3,
   "metadata": {},
   "outputs": [],
   "source": [
    "class BasicConv2d(nn.Module):\n",
    "    def __init__(self, in_channels, out_channels, kernel_size, padding=0):\n",
    "        super(BasicConv2d, self).__init__()\n",
    "        self.conv = nn.Conv2d(in_channels, out_channels, kernel_size, padding=padding)\n",
    "    def forward(self, x):\n",
    "        x = self.conv(x)\n",
    "        return F.relu(x, inplace=True)"
   ]
  },
  {
   "cell_type": "code",
   "execution_count": 4,
   "metadata": {},
   "outputs": [],
   "source": [
    "class Inceptionv1(nn.Module):\n",
    "     def __init__(self, in_dim, hid_1_1, hid_2_1, hid_2_3, hid_3_1, out_3_5, out_4_1):\n",
    "          super(Inceptionv1, self).__init__()\n",
    "          self.branch1x1 = BasicConv2d(in_dim, hid_1_1, 1)\n",
    "          self.branch3x3 = nn.Sequential(\n",
    "               BasicConv2d(in_dim, hid_2_1, 1),\n",
    "               BasicConv2d(hid_2_1, hid_2_3, 3, padding=1)\n",
    "          )\n",
    "          self.branch5x5 = nn.Sequential(\n",
    "               BasicConv2d(in_dim, hid_3_1, 1),\n",
    "               BasicConv2d(hid_3_1, out_3_5, 5, padding=2)\n",
    "          )\n",
    "          self.branch_pool = nn.Sequential(\n",
    "               nn.MaxPool2d(3, stride=1, padding=1),\n",
    "               BasicConv2d(in_dim, out_4_1, 1)\n",
    "          )\n",
    "     def forward(self, x):\n",
    "          b1 = self.branch1x1(x)\n",
    "          b2 = self.branch3x3(x)\n",
    "          b3 = self.branch5x5(x)\n",
    "          b4 = self.branch_pool(x)\n",
    "          output = torch.cat((b1, b2, b3, b4), dim=1)\n",
    "          return output"
   ]
  },
  {
   "cell_type": "code",
   "execution_count": 6,
   "metadata": {},
   "outputs": [],
   "source": [
    "netr_interceptionv1 = Inceptionv1(3, 64, 32, 64, 64, 96, 32)"
   ]
  },
  {
   "cell_type": "code",
   "execution_count": 7,
   "metadata": {},
   "outputs": [
    {
     "data": {
      "text/plain": [
       "Inceptionv1(\n",
       "  (branch1x1): BasicConv2d(\n",
       "    (conv): Conv2d(3, 64, kernel_size=(1, 1), stride=(1, 1))\n",
       "  )\n",
       "  (branch3x3): Sequential(\n",
       "    (0): BasicConv2d(\n",
       "      (conv): Conv2d(3, 32, kernel_size=(1, 1), stride=(1, 1))\n",
       "    )\n",
       "    (1): BasicConv2d(\n",
       "      (conv): Conv2d(32, 64, kernel_size=(3, 3), stride=(1, 1), padding=(1, 1))\n",
       "    )\n",
       "  )\n",
       "  (branch5x5): Sequential(\n",
       "    (0): BasicConv2d(\n",
       "      (conv): Conv2d(3, 64, kernel_size=(1, 1), stride=(1, 1))\n",
       "    )\n",
       "    (1): BasicConv2d(\n",
       "      (conv): Conv2d(64, 96, kernel_size=(5, 5), stride=(1, 1), padding=(2, 2))\n",
       "    )\n",
       "  )\n",
       "  (branch_pool): Sequential(\n",
       "    (0): MaxPool2d(kernel_size=3, stride=1, padding=1, dilation=1, ceil_mode=False)\n",
       "    (1): BasicConv2d(\n",
       "      (conv): Conv2d(3, 32, kernel_size=(1, 1), stride=(1, 1))\n",
       "    )\n",
       "  )\n",
       ")"
      ]
     },
     "execution_count": 7,
     "metadata": {},
     "output_type": "execute_result"
    }
   ],
   "source": [
    "netr_interceptionv1"
   ]
  },
  {
   "cell_type": "code",
   "execution_count": null,
   "metadata": {},
   "outputs": [],
   "source": []
  }
 ],
 "metadata": {
  "kernelspec": {
   "display_name": "Python 3",
   "language": "python",
   "name": "python3"
  },
  "language_info": {
   "codemirror_mode": {
    "name": "ipython",
    "version": 3
   },
   "file_extension": ".py",
   "mimetype": "text/x-python",
   "name": "python",
   "nbconvert_exporter": "python",
   "pygments_lexer": "ipython3",
   "version": "3.7.6"
  }
 },
 "nbformat": 4,
 "nbformat_minor": 4
}
